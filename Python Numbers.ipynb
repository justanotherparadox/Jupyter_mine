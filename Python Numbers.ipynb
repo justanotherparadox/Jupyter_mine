{
 "cells": [
  {
   "cell_type": "code",
   "execution_count": 1,
   "metadata": {},
   "outputs": [
    {
     "name": "stdout",
     "output_type": "stream",
     "text": [
      "(3+4j)\n"
     ]
    }
   ],
   "source": [
    "x=3+4j\n",
    "print(x)"
   ]
  },
  {
   "cell_type": "code",
   "execution_count": 2,
   "metadata": {},
   "outputs": [
    {
     "name": "stdout",
     "output_type": "stream",
     "text": [
      "True\n"
     ]
    }
   ],
   "source": [
    "#Isinstance returns a boolean\n",
    "y=isinstance(x,complex)\n",
    "print(y)"
   ]
  },
  {
   "cell_type": "code",
   "execution_count": 3,
   "metadata": {},
   "outputs": [
    {
     "data": {
      "text/plain": [
       "'While integers can be of any length, a floating point number is accurate only up to 15 decimal places (the 16th place is inaccurate).'"
      ]
     },
     "execution_count": 3,
     "metadata": {},
     "output_type": "execute_result"
    }
   ],
   "source": [
    "'''While integers can be of any length, a floating point number is accurate only up to 15 decimal places (the 16th place is inaccurate).'''"
   ]
  },
  {
   "cell_type": "code",
   "execution_count": 4,
   "metadata": {},
   "outputs": [],
   "source": [
    "#DEALING WITH TYPE CONVERSION"
   ]
  },
  {
   "cell_type": "code",
   "execution_count": 5,
   "metadata": {},
   "outputs": [
    {
     "data": {
      "text/plain": [
       "'Operations like addition, subtraction convert integer to float implicitly (automatically), if one of the operand is float.'"
      ]
     },
     "execution_count": 5,
     "metadata": {},
     "output_type": "execute_result"
    }
   ],
   "source": [
    "'''Operations like addition, subtraction convert integer to float implicitly (automatically), if one of the operand is float.'''"
   ]
  },
  {
   "cell_type": "code",
   "execution_count": 6,
   "metadata": {},
   "outputs": [
    {
     "data": {
      "text/plain": [
       "5.0"
      ]
     },
     "execution_count": 6,
     "metadata": {},
     "output_type": "execute_result"
    }
   ],
   "source": [
    "2+3.0\n"
   ]
  },
  {
   "cell_type": "code",
   "execution_count": 7,
   "metadata": {},
   "outputs": [
    {
     "data": {
      "text/plain": [
       "0.4"
      ]
     },
     "execution_count": 7,
     "metadata": {},
     "output_type": "execute_result"
    }
   ],
   "source": [
    "2/5"
   ]
  },
  {
   "cell_type": "code",
   "execution_count": 8,
   "metadata": {},
   "outputs": [
    {
     "data": {
      "text/plain": [
       "2.5"
      ]
     },
     "execution_count": 8,
     "metadata": {},
     "output_type": "execute_result"
    }
   ],
   "source": [
    "5/2"
   ]
  },
  {
   "cell_type": "code",
   "execution_count": 9,
   "metadata": {},
   "outputs": [
    {
     "data": {
      "text/plain": [
       "0.04"
      ]
     },
     "execution_count": 9,
     "metadata": {},
     "output_type": "execute_result"
    }
   ],
   "source": [
    "0.2/5"
   ]
  },
  {
   "cell_type": "code",
   "execution_count": 10,
   "metadata": {},
   "outputs": [
    {
     "data": {
      "text/plain": [
       "4.0"
      ]
     },
     "execution_count": 10,
     "metadata": {},
     "output_type": "execute_result"
    }
   ],
   "source": [
    "2/0.5"
   ]
  },
  {
   "cell_type": "code",
   "execution_count": 11,
   "metadata": {},
   "outputs": [
    {
     "data": {
      "text/plain": [
       "5"
      ]
     },
     "execution_count": 11,
     "metadata": {},
     "output_type": "execute_result"
    }
   ],
   "source": [
    "2+3"
   ]
  },
  {
   "cell_type": "code",
   "execution_count": 12,
   "metadata": {},
   "outputs": [
    {
     "data": {
      "text/plain": [
       "6.0"
      ]
     },
     "execution_count": 12,
     "metadata": {},
     "output_type": "execute_result"
    }
   ],
   "source": [
    "2*3.0"
   ]
  },
  {
   "cell_type": "code",
   "execution_count": 13,
   "metadata": {},
   "outputs": [
    {
     "data": {
      "text/plain": [
       "6"
      ]
     },
     "execution_count": 13,
     "metadata": {},
     "output_type": "execute_result"
    }
   ],
   "source": [
    "2*3"
   ]
  },
  {
   "cell_type": "code",
   "execution_count": 14,
   "metadata": {},
   "outputs": [
    {
     "name": "stdout",
     "output_type": "stream",
     "text": [
      "2\n"
     ]
    }
   ],
   "source": [
    "#explicit type conversion\n",
    "x=2.3\n",
    "y=int(x)\n",
    "print(y)"
   ]
  },
  {
   "cell_type": "code",
   "execution_count": 15,
   "metadata": {},
   "outputs": [
    {
     "name": "stdout",
     "output_type": "stream",
     "text": [
      "-2\n"
     ]
    }
   ],
   "source": [
    "x=-2.8\n",
    "y=int(x)\n",
    "print(y)"
   ]
  },
  {
   "cell_type": "code",
   "execution_count": 16,
   "metadata": {},
   "outputs": [
    {
     "data": {
      "text/plain": [
       "'When converting from float to integer, the number gets truncated (integer that is closer to zero).'"
      ]
     },
     "execution_count": 16,
     "metadata": {},
     "output_type": "execute_result"
    }
   ],
   "source": [
    "'''When converting from float to integer, the number gets truncated (integer that is closer to zero).'''"
   ]
  },
  {
   "cell_type": "code",
   "execution_count": 18,
   "metadata": {},
   "outputs": [
    {
     "data": {
      "text/plain": [
       "'We can also use built-in functions like int(), float() and complex() to convert between types explicitly. \\n   These function can even convert from strings.'"
      ]
     },
     "execution_count": 18,
     "metadata": {},
     "output_type": "execute_result"
    }
   ],
   "source": [
    "'''We can also use built-in functions like int(), float() and complex() to convert between types explicitly. \n",
    "   These function can even convert from strings.'''"
   ]
  },
  {
   "cell_type": "code",
   "execution_count": 19,
   "metadata": {},
   "outputs": [
    {
     "name": "stdout",
     "output_type": "stream",
     "text": [
      "3.3000000000000003\n",
      "3.3\n"
     ]
    }
   ],
   "source": [
    "#LETS AGREE TO DISAGREE\n",
    "x=1.1+2.2\n",
    "y=3.3\n",
    "print(x)\n",
    "print(y)\n"
   ]
  },
  {
   "cell_type": "code",
   "execution_count": 20,
   "metadata": {},
   "outputs": [
    {
     "name": "stdout",
     "output_type": "stream",
     "text": [
      "False\n"
     ]
    }
   ],
   "source": [
    "z=(x==y)\n",
    "print(z)"
   ]
  },
  {
   "cell_type": "code",
   "execution_count": 21,
   "metadata": {},
   "outputs": [
    {
     "data": {
      "text/plain": [
       "\"It turns out that floating-point numbers are implemented in computer hardware as binary fractions, as computer only\\n   understands binary (0 and 1). \\n   Due to this reason, most of the decimal fractions we know, cannot be accurately stored in our computer.\\n\\n   Let's take an example. We cannot represent the fraction 1/3 as a decimal number. This will give 0.33333333... \\n   which is infinitely long, and we can only approximate it.\\n\\n   Turns out decimal fraction 0.1 will result into an infinitely long binary fraction of 0.000110011001100110011... \\n   and our computer only stores a finite number of it.\\n\\n   This will only approximate 0.1 but never be equal. Hence, it is the limitation of our computer hardware and not an error in \\n   Python.\""
      ]
     },
     "execution_count": 21,
     "metadata": {},
     "output_type": "execute_result"
    }
   ],
   "source": [
    "'''It turns out that floating-point numbers are implemented in computer hardware as binary fractions, as computer only\n",
    "   understands binary (0 and 1). \n",
    "   Due to this reason, most of the decimal fractions we know, cannot be accurately stored in our computer.\n",
    "\n",
    "   Let's take an example. We cannot represent the fraction 1/3 as a decimal number. This will give 0.33333333... \n",
    "   which is infinitely long, and we can only approximate it.\n",
    "\n",
    "   Turns out decimal fraction 0.1 will result into an infinitely long binary fraction of 0.000110011001100110011... \n",
    "   and our computer only stores a finite number of it.\n",
    "\n",
    "   This will only approximate 0.1 but never be equal. Hence, it is the limitation of our computer hardware and not an error in \n",
    "   Python.'''"
   ]
  },
  {
   "cell_type": "code",
   "execution_count": 22,
   "metadata": {},
   "outputs": [],
   "source": [
    "#WOW docstrings are printed "
   ]
  },
  {
   "cell_type": "code",
   "execution_count": 24,
   "metadata": {},
   "outputs": [
    {
     "name": "stdout",
     "output_type": "stream",
     "text": [
      "0.1\n",
      "0.1\n",
      "0.1000000000000000055511151231257827021181583404541015625\n"
     ]
    }
   ],
   "source": [
    "print(0.1)\n",
    "import decimal\n",
    "print(0.1)\n",
    "print(decimal.Decimal(0.1))"
   ]
  },
  {
   "cell_type": "code",
   "execution_count": 25,
   "metadata": {},
   "outputs": [
    {
     "data": {
      "text/plain": [
       "'This module is used when we want to carry out decimal calculations like we learned in school.\\n   It also preserves significance. We know 25.50 kg is more accurate than 25.5 kg as it has two significant decimal places \\n   compared to one.'"
      ]
     },
     "execution_count": 25,
     "metadata": {},
     "output_type": "execute_result"
    }
   ],
   "source": [
    "'''This module is used when we want to carry out decimal calculations like we learned in school.\n",
    "   It also preserves significance. We know 25.50 kg is more accurate than 25.5 kg as it has two significant decimal places \n",
    "   compared to one.'''"
   ]
  },
  {
   "cell_type": "code",
   "execution_count": 29,
   "metadata": {},
   "outputs": [
    {
     "name": "stdout",
     "output_type": "stream",
     "text": [
      "3.3\n",
      "False\n",
      "<class 'decimal.Decimal'>\n",
      "<class 'float'>\n",
      "3.3000000000000003\n"
     ]
    }
   ],
   "source": [
    "from decimal import Decimal as D\n",
    "x=D('1.1')+D('2.2')\n",
    "print(x)\n",
    "y=3.3\n",
    "print(x==y)\n",
    "print(type(x))\n",
    "print(type(y))\n",
    "x=1.1+2.2\n",
    "print(x)"
   ]
  },
  {
   "cell_type": "code",
   "execution_count": 27,
   "metadata": {},
   "outputs": [
    {
     "name": "stdout",
     "output_type": "stream",
     "text": [
      "False\n"
     ]
    }
   ],
   "source": [
    "y=3.3\n",
    "print(x==y)"
   ]
  },
  {
   "cell_type": "code",
   "execution_count": 38,
   "metadata": {},
   "outputs": [
    {
     "name": "stdout",
     "output_type": "stream",
     "text": [
      "1.1999999999999999555910790149937383830547332763671875\n",
      "<class 'decimal.Decimal'>\n"
     ]
    }
   ],
   "source": [
    "x=D(1.2)\n",
    "print(x)\n",
    "print(type(x))"
   ]
  },
  {
   "cell_type": "code",
   "execution_count": 31,
   "metadata": {},
   "outputs": [
    {
     "name": "stdout",
     "output_type": "stream",
     "text": [
      "1.2\n"
     ]
    }
   ],
   "source": [
    "print(D('1.2'))"
   ]
  },
  {
   "cell_type": "code",
   "execution_count": 34,
   "metadata": {},
   "outputs": [
    {
     "name": "stdout",
     "output_type": "stream",
     "text": [
      "False\n",
      "<class 'decimal.Decimal'>\n",
      "<class 'float'>\n",
      "3.300000000000000266453525910\n",
      "3.3000000000000003\n"
     ]
    }
   ],
   "source": [
    "a=D(1.1)+D(2.2)\n",
    "b=1.1+2.2\n",
    "print(a==b)\n",
    "print(type(a))\n",
    "print(type(b))\n",
    "print(a)\n",
    "print(b)"
   ]
  },
  {
   "cell_type": "code",
   "execution_count": 35,
   "metadata": {},
   "outputs": [
    {
     "data": {
      "text/plain": [
       "'Hence, we need to use srings inside D to reprent the numbers as we enter them and perform calculations as in math.'"
      ]
     },
     "execution_count": 35,
     "metadata": {},
     "output_type": "execute_result"
    }
   ],
   "source": [
    "'''Hence, we need to use srings inside D to reprent the numbers as we enter them and perform calculations as in math.'''"
   ]
  },
  {
   "cell_type": "code",
   "execution_count": 39,
   "metadata": {},
   "outputs": [
    {
     "data": {
      "text/plain": [
       "'Explicit typecasting of floats to decimal.Decimal take place when we apply D irrespective of us passing a float or a string'"
      ]
     },
     "execution_count": 39,
     "metadata": {},
     "output_type": "execute_result"
    }
   ],
   "source": [
    "'''Explicit typecasting of floats to decimal.Decimal take place when we apply D irrespective of us passing a float or a string'''"
   ]
  },
  {
   "cell_type": "code",
   "execution_count": 40,
   "metadata": {},
   "outputs": [
    {
     "data": {
      "text/plain": [
       "'Passing a string restricts the no of significant digits but passing a float does not. The precision is carried to the extent\\n   as defined (default). But the typecasting happens in both cases.'"
      ]
     },
     "execution_count": 40,
     "metadata": {},
     "output_type": "execute_result"
    }
   ],
   "source": [
    "'''Passing a string restricts the no of significant digits but passing a float does not. The precision is carried to the extent\n",
    "   as defined (default). But the typecasting happens in both cases.'''"
   ]
  },
  {
   "cell_type": "code",
   "execution_count": 41,
   "metadata": {},
   "outputs": [
    {
     "name": "stdout",
     "output_type": "stream",
     "text": [
      "3.000\n"
     ]
    }
   ],
   "source": [
    "print(D('1.2')*D('2.50'))"
   ]
  },
  {
   "cell_type": "code",
   "execution_count": 42,
   "metadata": {},
   "outputs": [
    {
     "name": "stdout",
     "output_type": "stream",
     "text": [
      "3.00\n"
     ]
    }
   ],
   "source": [
    "print(D('1.2')*D('2.5'))"
   ]
  },
  {
   "cell_type": "code",
   "execution_count": 45,
   "metadata": {},
   "outputs": [
    {
     "name": "stdout",
     "output_type": "stream",
     "text": [
      "2.50\n"
     ]
    }
   ],
   "source": [
    "print(D('1.0')*D('2.5'))"
   ]
  },
  {
   "cell_type": "code",
   "execution_count": 48,
   "metadata": {},
   "outputs": [
    {
     "name": "stdout",
     "output_type": "stream",
     "text": [
      "2.5\n",
      "<class 'decimal.Decimal'>\n"
     ]
    }
   ],
   "source": [
    "x=D('1')*D('2.5')\n",
    "print(D('1')*D('2.5'))\n",
    "print(type(x))"
   ]
  },
  {
   "cell_type": "code",
   "execution_count": 49,
   "metadata": {},
   "outputs": [
    {
     "name": "stdout",
     "output_type": "stream",
     "text": [
      "Hello\n",
      "None\n"
     ]
    }
   ],
   "source": [
    "x=print(\"Hello\")\n",
    "print(x)"
   ]
  },
  {
   "cell_type": "code",
   "execution_count": 50,
   "metadata": {},
   "outputs": [
    {
     "name": "stdout",
     "output_type": "stream",
     "text": [
      "Hello\n"
     ]
    }
   ],
   "source": [
    "x=print(\"Hello\")"
   ]
  },
  {
   "cell_type": "code",
   "execution_count": 51,
   "metadata": {},
   "outputs": [
    {
     "name": "stdout",
     "output_type": "stream",
     "text": [
      "2.999999999999999888977697537\n"
     ]
    }
   ],
   "source": [
    "print(D(1.2)*D('2.50')) # 27 places of decimal"
   ]
  },
  {
   "cell_type": "code",
   "execution_count": 52,
   "metadata": {},
   "outputs": [
    {
     "name": "stdout",
     "output_type": "stream",
     "text": [
      "2.999999999999999888977697537\n"
     ]
    }
   ],
   "source": [
    "print(D(1.20)*D('2.50'))"
   ]
  },
  {
   "cell_type": "code",
   "execution_count": 53,
   "metadata": {},
   "outputs": [
    {
     "name": "stdout",
     "output_type": "stream",
     "text": [
      "2.999999999999999888977697537\n"
     ]
    }
   ],
   "source": [
    "print(D(1.20)*D(2.50))"
   ]
  },
  {
   "cell_type": "code",
   "execution_count": 57,
   "metadata": {},
   "outputs": [
    {
     "name": "stdout",
     "output_type": "stream",
     "text": [
      "1.2\n",
      "3.2\n"
     ]
    }
   ],
   "source": [
    "x=D('1.2')\n",
    "print(x)\n",
    "print(x+2)"
   ]
  },
  {
   "cell_type": "code",
   "execution_count": 55,
   "metadata": {},
   "outputs": [
    {
     "name": "stdout",
     "output_type": "stream",
     "text": [
      "1.1999999999999999555910790149937383830547332763671875\n"
     ]
    }
   ],
   "source": [
    "x=D(1.2)  # 56 places of decimal\n",
    "print(x)"
   ]
  },
  {
   "cell_type": "code",
   "execution_count": 56,
   "metadata": {},
   "outputs": [
    {
     "name": "stdout",
     "output_type": "stream",
     "text": [
      "3.199999999999999955591079015\n"
     ]
    }
   ],
   "source": [
    "print(x+2) # 27 places of decimal"
   ]
  },
  {
   "cell_type": "code",
   "execution_count": 58,
   "metadata": {},
   "outputs": [
    {
     "data": {
      "text/plain": [
       "'We might ask, why not implement Decimal every time, instead of float? \\n   The main reason is efficiency. Floating point operations are carried out must faster than Decimal operations.'"
      ]
     },
     "execution_count": 58,
     "metadata": {},
     "output_type": "execute_result"
    }
   ],
   "source": [
    "'''We might ask, why not implement Decimal every time, instead of float? \n",
    "   The main reason is efficiency. Floating point operations are carried out must faster than Decimal operations.'''"
   ]
  },
  {
   "cell_type": "code",
   "execution_count": 59,
   "metadata": {},
   "outputs": [
    {
     "data": {
      "text/plain": [
       "'When to use Decimal instead of float?\\n   We generally use Decimal in the following cases:\\n   \\n   1. When we are making financial applications that need exact decimal representation.\\n   2. When we want to control the level of precision required.\\n   3. When we want to implement the notion of significant decimal places.\\n   4. When we want the operations to be carried out like we did at school\\n'"
      ]
     },
     "execution_count": 59,
     "metadata": {},
     "output_type": "execute_result"
    }
   ],
   "source": [
    "'''When to use Decimal instead of float?\n",
    "   We generally use Decimal in the following cases:\n",
    "   \n",
    "   1. When we are making financial applications that need exact decimal representation.\n",
    "   2. When we want to control the level of precision required.\n",
    "   3. When we want to implement the notion of significant decimal places.\n",
    "   4. When we want the operations to be carried out like we did at school\n",
    "'''"
   ]
  },
  {
   "cell_type": "code",
   "execution_count": 60,
   "metadata": {},
   "outputs": [],
   "source": [
    "#Fractions module\n"
   ]
  },
  {
   "cell_type": "code",
   "execution_count": 64,
   "metadata": {},
   "outputs": [
    {
     "name": "stdout",
     "output_type": "stream",
     "text": [
      "3/2\n",
      "5\n",
      "5/2\n",
      "5/2\n"
     ]
    }
   ],
   "source": [
    "import fractions\n",
    "print(fractions.Fraction(1.5))\n",
    "print(fractions.Fraction(5))\n",
    "print(fractions.Fraction(5,2))\n",
    "print(fractions.Fraction(5/2))"
   ]
  },
  {
   "cell_type": "code",
   "execution_count": 65,
   "metadata": {},
   "outputs": [
    {
     "data": {
      "text/plain": [
       "'While creating Fraction from float, we might get some unusual results. This is due to the imperfect binary floating point\\n   number representation as discussed in the previous section.'"
      ]
     },
     "execution_count": 65,
     "metadata": {},
     "output_type": "execute_result"
    }
   ],
   "source": [
    "'''While creating Fraction from float, we might get some unusual results. This is due to the imperfect binary floating point\n",
    "   number representation as discussed in the previous section.'''"
   ]
  },
  {
   "cell_type": "code",
   "execution_count": 66,
   "metadata": {},
   "outputs": [
    {
     "data": {
      "text/plain": [
       "'Fortunately, Fraction allows us to instantiate with string as well. This is the preferred options when using decimal numbers.'"
      ]
     },
     "execution_count": 66,
     "metadata": {},
     "output_type": "execute_result"
    }
   ],
   "source": [
    "'''Fortunately, Fraction allows us to instantiate with string as well. This is the preferred options when using decimal numbers.'''"
   ]
  },
  {
   "cell_type": "code",
   "execution_count": 67,
   "metadata": {},
   "outputs": [
    {
     "name": "stdout",
     "output_type": "stream",
     "text": [
      "11/10\n"
     ]
    }
   ],
   "source": [
    "print(fractions.Fraction('1.1'))"
   ]
  },
  {
   "cell_type": "code",
   "execution_count": 68,
   "metadata": {},
   "outputs": [
    {
     "name": "stdout",
     "output_type": "stream",
     "text": [
      "2/3\n",
      "6/5\n",
      "False\n",
      "True\n"
     ]
    }
   ],
   "source": [
    "from fractions import Fraction as F\n",
    "print(F(1,3) + F(1,3))\n",
    "print(1 / F(5,6))\n",
    "print(F(-3,10) > 0)\n",
    "print(F(-3,10) < 0)"
   ]
  },
  {
   "cell_type": "code",
   "execution_count": 69,
   "metadata": {},
   "outputs": [
    {
     "data": {
      "text/plain": [
       "'Python offers modules like math and random to carry out different mathematics like trigonometry, logarithms,\\n   probability and statistics, etc.'"
      ]
     },
     "execution_count": 69,
     "metadata": {},
     "output_type": "execute_result"
    }
   ],
   "source": [
    "'''Python offers modules like math and random to carry out different mathematics like trigonometry, logarithms,\n",
    "   probability and statistics, etc.'''"
   ]
  },
  {
   "cell_type": "code",
   "execution_count": 70,
   "metadata": {},
   "outputs": [],
   "source": [
    "#Toexplore MATH and RANDOM module"
   ]
  },
  {
   "cell_type": "code",
   "execution_count": 71,
   "metadata": {},
   "outputs": [
    {
     "name": "stdout",
     "output_type": "stream",
     "text": [
      "3.141592653589793\n",
      "-1.0\n",
      "22026.465794806718\n",
      "3.0\n",
      "1.1752011936438014\n",
      "720\n"
     ]
    }
   ],
   "source": [
    "import math\n",
    "print(math.pi)\n",
    "print(math.cos(math.pi))\n",
    "print(math.exp(10))\n",
    "print(math.log10(1000)) #Notice that the O/P is in float\n",
    "print(math.sinh(1))\n",
    "print(math.factorial(6)) #Others can be used when required, just keep an index of them"
   ]
  },
  {
   "cell_type": "code",
   "execution_count": 72,
   "metadata": {},
   "outputs": [
    {
     "data": {
      "text/plain": [
       "'Exploring random function'"
      ]
     },
     "execution_count": 72,
     "metadata": {},
     "output_type": "execute_result"
    }
   ],
   "source": [
    "#Explore the random module\n",
    "'''Exploring random function'''\n"
   ]
  },
  {
   "cell_type": "code",
   "execution_count": 73,
   "metadata": {},
   "outputs": [
    {
     "data": {
      "text/plain": [
       "'Python offers random module that can generate random numbers.\\n   These are pseudo-random number as the sequence of number generated depends on the seed.'"
      ]
     },
     "execution_count": 73,
     "metadata": {},
     "output_type": "execute_result"
    }
   ],
   "source": [
    "'''Python offers random module that can generate random numbers.\n",
    "   These are pseudo-random number as the sequence of number generated depends on the seed.'''"
   ]
  },
  {
   "cell_type": "code",
   "execution_count": 74,
   "metadata": {},
   "outputs": [
    {
     "name": "stdout",
     "output_type": "stream",
     "text": [
      "0.9560342718892494\n",
      "0.9478274870593494\n",
      "0.05655136772680869\n"
     ]
    }
   ],
   "source": [
    "import random\n",
    "random.seed(2)\n",
    "print(random.random())\n",
    "print(random.random())\n",
    "print(random.random())"
   ]
  },
  {
   "cell_type": "code",
   "execution_count": 75,
   "metadata": {},
   "outputs": [
    {
     "name": "stdout",
     "output_type": "stream",
     "text": [
      "0.08487199515892163\n",
      "0.8354988781294496\n",
      "0.7359699890685233\n"
     ]
    }
   ],
   "source": [
    "print(random.random())\n",
    "print(random.random())\n",
    "print(random.random())"
   ]
  },
  {
   "cell_type": "code",
   "execution_count": 76,
   "metadata": {},
   "outputs": [
    {
     "name": "stdout",
     "output_type": "stream",
     "text": [
      "0.6697304014402209\n",
      "0.3081364575891442\n",
      "0.6059441656784624\n"
     ]
    }
   ],
   "source": [
    "print(random.random())\n",
    "print(random.random())\n",
    "print(random.random())\n"
   ]
  },
  {
   "cell_type": "code",
   "execution_count": 77,
   "metadata": {},
   "outputs": [
    {
     "name": "stdout",
     "output_type": "stream",
     "text": [
      "0.23796462709189137\n",
      "0.5442292252959519\n",
      "0.36995516654807925\n"
     ]
    }
   ],
   "source": [
    "random.seed(3)\n",
    "print(random.random())\n",
    "print(random.random())\n",
    "print(random.random())"
   ]
  },
  {
   "cell_type": "code",
   "execution_count": 78,
   "metadata": {},
   "outputs": [
    {
     "name": "stdout",
     "output_type": "stream",
     "text": [
      "0.6039200385961945\n",
      "0.625720304108054\n",
      "0.06552885923981311\n"
     ]
    }
   ],
   "source": [
    "print(random.random())\n",
    "print(random.random())\n",
    "print(random.random())"
   ]
  },
  {
   "cell_type": "code",
   "execution_count": 79,
   "metadata": {},
   "outputs": [
    {
     "name": "stdout",
     "output_type": "stream",
     "text": [
      "0.9560342718892494\n",
      "0.9478274870593494\n",
      "0.05655136772680869\n"
     ]
    }
   ],
   "source": [
    "random.seed(2)\n",
    "print(random.random())\n",
    "print(random.random())\n",
    "print(random.random())\n"
   ]
  },
  {
   "cell_type": "code",
   "execution_count": 80,
   "metadata": {},
   "outputs": [
    {
     "data": {
      "text/plain": [
       "' Since this generator is completely deterministic, it must not be used for encryption purpose.'"
      ]
     },
     "execution_count": 80,
     "metadata": {},
     "output_type": "execute_result"
    }
   ],
   "source": [
    "''' Since this generator is completely deterministic, it must not be used for encryption purpose.'''"
   ]
  },
  {
   "cell_type": "code",
   "execution_count": 83,
   "metadata": {},
   "outputs": [
    {
     "name": "stdout",
     "output_type": "stream",
     "text": [
      "10\n"
     ]
    }
   ],
   "source": [
    "import random\n",
    "print(random.getrandbits(7))"
   ]
  },
  {
   "cell_type": "code",
   "execution_count": 84,
   "metadata": {},
   "outputs": [
    {
     "name": "stdout",
     "output_type": "stream",
     "text": [
      "2\n"
     ]
    }
   ],
   "source": [
    "import random\n",
    "print(random.getrandbits(3))"
   ]
  },
  {
   "cell_type": "code",
   "execution_count": 85,
   "metadata": {},
   "outputs": [
    {
     "name": "stdout",
     "output_type": "stream",
     "text": [
      "6\n"
     ]
    }
   ],
   "source": [
    "import random\n",
    "print(random.getrandbits(3))"
   ]
  },
  {
   "cell_type": "code",
   "execution_count": 86,
   "metadata": {},
   "outputs": [
    {
     "name": "stdout",
     "output_type": "stream",
     "text": [
      "0\n"
     ]
    }
   ],
   "source": [
    "import random\n",
    "print(random.getrandbits(2))"
   ]
  },
  {
   "cell_type": "code",
   "execution_count": 87,
   "metadata": {},
   "outputs": [
    {
     "name": "stdout",
     "output_type": "stream",
     "text": [
      "2\n"
     ]
    }
   ],
   "source": [
    "import random\n",
    "print(random.getrandbits(2))"
   ]
  },
  {
   "cell_type": "code",
   "execution_count": 88,
   "metadata": {},
   "outputs": [
    {
     "name": "stdout",
     "output_type": "stream",
     "text": [
      "3\n"
     ]
    }
   ],
   "source": [
    "import random\n",
    "print(random.getrandbits(2))"
   ]
  },
  {
   "cell_type": "code",
   "execution_count": 89,
   "metadata": {},
   "outputs": [
    {
     "name": "stdout",
     "output_type": "stream",
     "text": [
      "2\n"
     ]
    }
   ],
   "source": [
    "import random\n",
    "print(random.getrandbits(2))"
   ]
  },
  {
   "cell_type": "code",
   "execution_count": 91,
   "metadata": {},
   "outputs": [
    {
     "name": "stdout",
     "output_type": "stream",
     "text": [
      "c\n",
      "e\n",
      "b\n",
      "e\n",
      "a\n"
     ]
    }
   ],
   "source": [
    "import random\n",
    "x = ['a', 'b', 'c', 'd', 'e']\n",
    "for i in range(2,7):\n",
    "    print(random.choice(x))\n",
    "            "
   ]
  },
  {
   "cell_type": "code",
   "execution_count": 93,
   "metadata": {},
   "outputs": [
    {
     "name": "stdout",
     "output_type": "stream",
     "text": [
      "19\n",
      "12\n",
      "16\n",
      "16\n",
      "18\n",
      "15\n",
      "18\n",
      "17\n",
      "18\n",
      "14\n",
      "10\n",
      "10\n",
      "15\n",
      "17\n",
      "15\n",
      "16\n",
      "16\n",
      "18\n"
     ]
    }
   ],
   "source": [
    "import random\n",
    "for i in range(2,20):\n",
    "    print(random.randrange(10,20))"
   ]
  },
  {
   "cell_type": "code",
   "execution_count": 96,
   "metadata": {},
   "outputs": [
    {
     "name": "stdout",
     "output_type": "stream",
     "text": [
      "['a', 'd', 'c', 'b', 'e']\n",
      "['e', 'a', 'd', 'b', 'c']\n",
      "['b', 'd', 'c', 'e', 'a']\n",
      "['a', 'e', 'c', 'b', 'd']\n",
      "['d', 'c', 'b', 'a', 'e']\n",
      "['a', 'b', 'd', 'e', 'c']\n",
      "['c', 'd', 'b', 'e', 'a']\n",
      "['d', 'b', 'c', 'e', 'a']\n",
      "['b', 'd', 'c', 'a', 'e']\n",
      "['c', 'a', 'd', 'b', 'e']\n",
      "['d', 'e', 'a', 'b', 'c']\n",
      "['b', 'e', 'a', 'd', 'c']\n",
      "['d', 'b', 'e', 'c', 'a']\n",
      "['e', 'b', 'a', 'd', 'c']\n",
      "['a', 'd', 'c', 'e', 'b']\n",
      "['c', 'a', 'd', 'b', 'e']\n",
      "['d', 'a', 'b', 'c', 'e']\n",
      "['c', 'e', 'a', 'b', 'd']\n"
     ]
    }
   ],
   "source": [
    "import random\n",
    "x=  ['a', 'b', 'c', 'd', 'e'] \n",
    "for i in range(2,20):\n",
    "    random.shuffle(x)\n",
    "    print(x)"
   ]
  },
  {
   "cell_type": "code",
   "execution_count": 97,
   "metadata": {},
   "outputs": [
    {
     "name": "stdout",
     "output_type": "stream",
     "text": [
      "0.2191652786358007\n",
      "0.4904453992274338\n",
      "0.11576836982036187\n",
      "0.3733944922073257\n",
      "0.7159246762337117\n",
      "0.13966531122908366\n",
      "0.34493909325482364\n",
      "0.887691677523624\n",
      "0.25416227520831003\n",
      "0.12295853406571378\n",
      "0.6165414664899622\n",
      "0.3344831886961429\n",
      "0.39110438495627464\n",
      "0.21200988212714\n",
      "0.10540106910965419\n",
      "0.6181819786068772\n",
      "0.47037448568054985\n",
      "0.04318045618771216\n"
     ]
    }
   ],
   "source": [
    "for i in range(2,20):\n",
    "    print(random.random())"
   ]
  },
  {
   "cell_type": "code",
   "execution_count": null,
   "metadata": {},
   "outputs": [],
   "source": []
  }
 ],
 "metadata": {
  "kernelspec": {
   "display_name": "Python 3",
   "language": "python",
   "name": "python3"
  },
  "language_info": {
   "codemirror_mode": {
    "name": "ipython",
    "version": 3
   },
   "file_extension": ".py",
   "mimetype": "text/x-python",
   "name": "python",
   "nbconvert_exporter": "python",
   "pygments_lexer": "ipython3",
   "version": "3.7.3"
  }
 },
 "nbformat": 4,
 "nbformat_minor": 2
}
