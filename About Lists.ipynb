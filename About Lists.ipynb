{
 "cells": [
  {
   "cell_type": "code",
   "execution_count": 1,
   "metadata": {},
   "outputs": [
    {
     "data": {
      "text/plain": [
       "'Lists are less restricted than tuples'"
      ]
     },
     "execution_count": 1,
     "metadata": {},
     "output_type": "execute_result"
    }
   ],
   "source": [
    "'''Redundant materials on  Lists which were common to tuples have been discarded'''\n",
    "'''Lists are less restricted than tuples'''"
   ]
  },
  {
   "cell_type": "code",
   "execution_count": 2,
   "metadata": {},
   "outputs": [
    {
     "data": {
      "text/plain": [
       "'Python offers a range of compound data types often refered to as sequences and list is one of them '"
      ]
     },
     "execution_count": 2,
     "metadata": {},
     "output_type": "execute_result"
    }
   ],
   "source": [
    "'''Python offers a range of compound data types often refered to as sequences and list is one of them '''"
   ]
  },
  {
   "cell_type": "code",
   "execution_count": 3,
   "metadata": {},
   "outputs": [
    {
     "data": {
      "text/plain": [
       "'Nesting of lists is allowed'"
      ]
     },
     "execution_count": 3,
     "metadata": {},
     "output_type": "execute_result"
    }
   ],
   "source": [
    "'''Nesting of lists is allowed'''"
   ]
  },
  {
   "cell_type": "code",
   "execution_count": 4,
   "metadata": {},
   "outputs": [
    {
     "data": {
      "text/plain": [
       "'Properties of lists:\\n   1. Indexing is possible. (Hence, elements can be accessed.)\\n   2. Lists are mutable. (Hence, elements can be changed, deleted as well as added at any point.)'"
      ]
     },
     "execution_count": 4,
     "metadata": {},
     "output_type": "execute_result"
    }
   ],
   "source": [
    "'''Properties of lists:\n",
    "   1. Indexing is possible. (Hence, elements can be accessed.)\n",
    "   2. Lists are mutable. (Hence, elements can be changed, deleted as well as added at any point.)'''"
   ]
  },
  {
   "cell_type": "code",
   "execution_count": 5,
   "metadata": {},
   "outputs": [
    {
     "name": "stdout",
     "output_type": "stream",
     "text": [
      "2151597543688\n"
     ]
    }
   ],
   "source": [
    "x=[1,2,2,2,3,3,5,7,\"Aashish\"]\n",
    "print(id(x))"
   ]
  },
  {
   "cell_type": "code",
   "execution_count": 6,
   "metadata": {},
   "outputs": [],
   "source": [
    "x[2]=3\n"
   ]
  },
  {
   "cell_type": "code",
   "execution_count": 7,
   "metadata": {},
   "outputs": [
    {
     "name": "stdout",
     "output_type": "stream",
     "text": [
      "[1, 2, 3, 2, 3, 3, 5, 7, 'Aashish']\n"
     ]
    }
   ],
   "source": [
    "print(x)\n"
   ]
  },
  {
   "cell_type": "code",
   "execution_count": 50,
   "metadata": {},
   "outputs": [
    {
     "name": "stdout",
     "output_type": "stream",
     "text": [
      "2151597544904\n"
     ]
    }
   ],
   "source": [
    "print(id(x))"
   ]
  },
  {
   "cell_type": "code",
   "execution_count": 9,
   "metadata": {},
   "outputs": [
    {
     "data": {
      "text/plain": [
       "'Changes are made inplace'"
      ]
     },
     "execution_count": 9,
     "metadata": {},
     "output_type": "execute_result"
    }
   ],
   "source": [
    "'''Changes are made inplace'''"
   ]
  },
  {
   "cell_type": "code",
   "execution_count": 48,
   "metadata": {},
   "outputs": [
    {
     "name": "stdout",
     "output_type": "stream",
     "text": [
      "['Aashish', 'Das', 9]\n",
      "2151597544904\n"
     ]
    }
   ],
   "source": [
    "'''APPEND method: Add one item to the list, modification is done inplace'''\n",
    "x.append(9)\n",
    "print(x)\n",
    "print(id(x))"
   ]
  },
  {
   "cell_type": "code",
   "execution_count": 49,
   "metadata": {},
   "outputs": [
    {
     "name": "stdout",
     "output_type": "stream",
     "text": [
      "['Aashish', 'Das', 9, 7, 8]\n",
      "2151597544904\n"
     ]
    }
   ],
   "source": [
    "'''EXTEND method: Add multiple items to the list'''\n",
    "x.extend([7,8])\n",
    "print(x)\n",
    "print(id(x))"
   ]
  },
  {
   "cell_type": "code",
   "execution_count": 12,
   "metadata": {},
   "outputs": [
    {
     "ename": "TypeError",
     "evalue": "'int' object is not iterable",
     "output_type": "error",
     "traceback": [
      "\u001b[1;31m---------------------------------------------------------------------------\u001b[0m",
      "\u001b[1;31mTypeError\u001b[0m                                 Traceback (most recent call last)",
      "\u001b[1;32m<ipython-input-12-ff5ade193973>\u001b[0m in \u001b[0;36m<module>\u001b[1;34m\u001b[0m\n\u001b[1;32m----> 1\u001b[1;33m \u001b[0mx\u001b[0m\u001b[1;33m.\u001b[0m\u001b[0mextend\u001b[0m\u001b[1;33m(\u001b[0m\u001b[1;36m6\u001b[0m\u001b[1;33m)\u001b[0m\u001b[1;33m\u001b[0m\u001b[1;33m\u001b[0m\u001b[0m\n\u001b[0m",
      "\u001b[1;31mTypeError\u001b[0m: 'int' object is not iterable"
     ]
    }
   ],
   "source": [
    "x.extend(6)"
   ]
  },
  {
   "cell_type": "code",
   "execution_count": 13,
   "metadata": {},
   "outputs": [],
   "source": [
    "x.extend([6])"
   ]
  },
  {
   "cell_type": "code",
   "execution_count": 14,
   "metadata": {},
   "outputs": [
    {
     "name": "stdout",
     "output_type": "stream",
     "text": [
      "[1, 2, 3, 2, 3, 3, 5, 7, 'Aashish', 9, 7, 8, 6]\n"
     ]
    }
   ],
   "source": [
    "print(x)"
   ]
  },
  {
   "cell_type": "code",
   "execution_count": 15,
   "metadata": {},
   "outputs": [
    {
     "data": {
      "text/plain": [
       "'Notice that the elements are added at the end both in case of extend as well as append methods'"
      ]
     },
     "execution_count": 15,
     "metadata": {},
     "output_type": "execute_result"
    }
   ],
   "source": [
    "'''Notice that the elements are added at the end both in case of extend as well as append methods'''"
   ]
  },
  {
   "cell_type": "code",
   "execution_count": 16,
   "metadata": {},
   "outputs": [
    {
     "ename": "TypeError",
     "evalue": "'int' object is not iterable",
     "output_type": "error",
     "traceback": [
      "\u001b[1;31m---------------------------------------------------------------------------\u001b[0m",
      "\u001b[1;31mTypeError\u001b[0m                                 Traceback (most recent call last)",
      "\u001b[1;32m<ipython-input-16-4271d2034296>\u001b[0m in \u001b[0;36m<module>\u001b[1;34m\u001b[0m\n\u001b[1;32m----> 1\u001b[1;33m \u001b[0mx\u001b[0m\u001b[1;33m.\u001b[0m\u001b[0mextend\u001b[0m\u001b[1;33m(\u001b[0m\u001b[1;33m(\u001b[0m\u001b[1;36m6\u001b[0m\u001b[1;33m)\u001b[0m\u001b[1;33m)\u001b[0m\u001b[1;33m\u001b[0m\u001b[1;33m\u001b[0m\u001b[0m\n\u001b[0m",
      "\u001b[1;31mTypeError\u001b[0m: 'int' object is not iterable"
     ]
    }
   ],
   "source": [
    "x.extend((6))"
   ]
  },
  {
   "cell_type": "code",
   "execution_count": 23,
   "metadata": {},
   "outputs": [
    {
     "data": {
      "text/plain": [
       "'Note that in extend method, only lists can be passed as arguments (which is obv iterable) whereas in append method elements\\n   are passed'"
      ]
     },
     "execution_count": 23,
     "metadata": {},
     "output_type": "execute_result"
    }
   ],
   "source": [
    "'''Note that in extend method, only lists can be passed as arguments (which is obv iterable) whereas in append method elements\n",
    "   are passed'''"
   ]
  },
  {
   "cell_type": "code",
   "execution_count": 18,
   "metadata": {},
   "outputs": [],
   "source": [
    "x.append([2])"
   ]
  },
  {
   "cell_type": "code",
   "execution_count": 19,
   "metadata": {},
   "outputs": [
    {
     "name": "stdout",
     "output_type": "stream",
     "text": [
      "[1, 2, 3, 2, 3, 3, 5, 7, 'Aashish', 9, 7, 8, 6, [2]]\n"
     ]
    }
   ],
   "source": [
    "print(x)"
   ]
  },
  {
   "cell_type": "code",
   "execution_count": 22,
   "metadata": {},
   "outputs": [
    {
     "data": {
      "text/plain": [
       "'Hence, all those Datatypes that can be an element of a list can be passed to append method'"
      ]
     },
     "execution_count": 22,
     "metadata": {},
     "output_type": "execute_result"
    }
   ],
   "source": [
    "'''Hence, all those Datatypes that can be an element of a list can be passed to append method'''\n"
   ]
  },
  {
   "cell_type": "code",
   "execution_count": 25,
   "metadata": {},
   "outputs": [
    {
     "ename": "TypeError",
     "evalue": "append() takes exactly one argument (3 given)",
     "output_type": "error",
     "traceback": [
      "\u001b[1;31m---------------------------------------------------------------------------\u001b[0m",
      "\u001b[1;31mTypeError\u001b[0m                                 Traceback (most recent call last)",
      "\u001b[1;32m<ipython-input-25-8f8677002f50>\u001b[0m in \u001b[0;36m<module>\u001b[1;34m\u001b[0m\n\u001b[1;32m----> 1\u001b[1;33m \u001b[0mx\u001b[0m\u001b[1;33m.\u001b[0m \u001b[0mappend\u001b[0m\u001b[1;33m(\u001b[0m\u001b[1;33m[\u001b[0m\u001b[1;36m8\u001b[0m\u001b[1;33m]\u001b[0m\u001b[1;33m,\u001b[0m\u001b[1;34m\"a\"\u001b[0m\u001b[1;33m,\u001b[0m\u001b[1;36m3\u001b[0m\u001b[1;33m)\u001b[0m\u001b[1;33m\u001b[0m\u001b[1;33m\u001b[0m\u001b[0m\n\u001b[0m",
      "\u001b[1;31mTypeError\u001b[0m: append() takes exactly one argument (3 given)"
     ]
    }
   ],
   "source": [
    "x. append([8],\"a\",3)"
   ]
  },
  {
   "cell_type": "code",
   "execution_count": 26,
   "metadata": {},
   "outputs": [
    {
     "data": {
      "text/plain": [
       "'NOTE: ONLY ONE ITEM CAN BE ADDED USING APPEND'"
      ]
     },
     "execution_count": 26,
     "metadata": {},
     "output_type": "execute_result"
    }
   ],
   "source": [
    "'''NOTE: ONLY ONE ITEM CAN BE ADDED USING APPEND'''"
   ]
  },
  {
   "cell_type": "code",
   "execution_count": 27,
   "metadata": {},
   "outputs": [
    {
     "data": {
      "text/plain": [
       "'PASS A LIST OF ITEMS TO BE ADDED TO THE PARENT LIST USING EXTEND METHOD'"
      ]
     },
     "execution_count": 27,
     "metadata": {},
     "output_type": "execute_result"
    }
   ],
   "source": [
    "'''PASS A LIST OF ITEMS TO BE ADDED TO THE PARENT LIST USING EXTEND METHOD'''"
   ]
  },
  {
   "cell_type": "code",
   "execution_count": 28,
   "metadata": {},
   "outputs": [
    {
     "name": "stdout",
     "output_type": "stream",
     "text": [
      "[1, 2, 3, 4, 4, 3, 5, 6]\n"
     ]
    }
   ],
   "source": [
    "x=[1,2,3,4]  '''Concatenation'''\n",
    "print(x+[4,3,5,6,])"
   ]
  },
  {
   "cell_type": "code",
   "execution_count": 29,
   "metadata": {},
   "outputs": [
    {
     "data": {
      "text/plain": [
       "'Notice that the extra comma we placed is not necessary in case of lists and that too in case of multiple elements'"
      ]
     },
     "execution_count": 29,
     "metadata": {},
     "output_type": "execute_result"
    }
   ],
   "source": [
    "'''Notice that the extra comma we placed is not necessary in case of lists and that too in case of multiple elements'''"
   ]
  },
  {
   "cell_type": "code",
   "execution_count": 30,
   "metadata": {},
   "outputs": [
    {
     "name": "stdout",
     "output_type": "stream",
     "text": [
      "2151598222728\n"
     ]
    }
   ],
   "source": [
    "print(id(x))"
   ]
  },
  {
   "cell_type": "code",
   "execution_count": 31,
   "metadata": {},
   "outputs": [
    {
     "name": "stdout",
     "output_type": "stream",
     "text": [
      "[1]\n"
     ]
    }
   ],
   "source": [
    "x=[1,]\n",
    "print(x)"
   ]
  },
  {
   "cell_type": "code",
   "execution_count": 32,
   "metadata": {},
   "outputs": [
    {
     "name": "stdout",
     "output_type": "stream",
     "text": [
      "[1]\n"
     ]
    }
   ],
   "source": [
    "x=[1]\n",
    "print(x)"
   ]
  },
  {
   "cell_type": "code",
   "execution_count": 33,
   "metadata": {},
   "outputs": [
    {
     "name": "stdout",
     "output_type": "stream",
     "text": [
      "(1,)\n"
     ]
    }
   ],
   "source": [
    "x=(1,)\n",
    "print(x)"
   ]
  },
  {
   "cell_type": "code",
   "execution_count": 34,
   "metadata": {},
   "outputs": [
    {
     "name": "stdout",
     "output_type": "stream",
     "text": [
      "1\n"
     ]
    }
   ],
   "source": [
    "x=(1)\n",
    "print(x)"
   ]
  },
  {
   "cell_type": "code",
   "execution_count": 35,
   "metadata": {},
   "outputs": [
    {
     "name": "stdout",
     "output_type": "stream",
     "text": [
      "<class 'int'>\n"
     ]
    }
   ],
   "source": [
    "print(type(x))"
   ]
  },
  {
   "cell_type": "code",
   "execution_count": 36,
   "metadata": {},
   "outputs": [
    {
     "data": {
      "text/plain": [
       "'Notice: it is not a tuple'"
      ]
     },
     "execution_count": 36,
     "metadata": {},
     "output_type": "execute_result"
    }
   ],
   "source": [
    "'''Notice: it is not a tuple'''"
   ]
  },
  {
   "cell_type": "code",
   "execution_count": 37,
   "metadata": {},
   "outputs": [
    {
     "name": "stdout",
     "output_type": "stream",
     "text": [
      "1\n"
     ]
    }
   ],
   "source": [
    "print (x)"
   ]
  },
  {
   "cell_type": "code",
   "execution_count": 42,
   "metadata": {},
   "outputs": [
    {
     "name": "stdout",
     "output_type": "stream",
     "text": [
      "['Aashish', 'Das', 'Aashish', 'Das', 'Aashish', 'Das']\n",
      "2151598026568\n"
     ]
    }
   ],
   "source": [
    "x=[\"Aashish\",\"Das\"]\n",
    "print(x*3)\n",
    "print(id(x*3))"
   ]
  },
  {
   "cell_type": "code",
   "execution_count": 43,
   "metadata": {},
   "outputs": [],
   "source": [
    "y=x*3"
   ]
  },
  {
   "cell_type": "code",
   "execution_count": 44,
   "metadata": {},
   "outputs": [
    {
     "name": "stdout",
     "output_type": "stream",
     "text": [
      "2151598217224\n"
     ]
    }
   ],
   "source": [
    "print(id(y))"
   ]
  },
  {
   "cell_type": "code",
   "execution_count": 45,
   "metadata": {},
   "outputs": [
    {
     "name": "stdout",
     "output_type": "stream",
     "text": [
      "['Aashish', 'Das', 'Aashish', 'Das', 'Aashish', 'Das']\n"
     ]
    }
   ],
   "source": [
    "print(y)"
   ]
  },
  {
   "cell_type": "code",
   "execution_count": 46,
   "metadata": {},
   "outputs": [
    {
     "data": {
      "text/plain": [
       "'Note that both the lists are different as their id is different'"
      ]
     },
     "execution_count": 46,
     "metadata": {},
     "output_type": "execute_result"
    }
   ],
   "source": [
    "'''Note that both the lists are different as their id is different'''"
   ]
  },
  {
   "cell_type": "code",
   "execution_count": 51,
   "metadata": {},
   "outputs": [
    {
     "data": {
      "text/plain": [
       "'A NOTE ON APPEND AND EXTEND methods'"
      ]
     },
     "execution_count": 51,
     "metadata": {},
     "output_type": "execute_result"
    }
   ],
   "source": [
    "'''A NOTE ON APPEND AND EXTEND methods'''"
   ]
  },
  {
   "cell_type": "code",
   "execution_count": 52,
   "metadata": {},
   "outputs": [
    {
     "data": {
      "text/plain": [
       "'Any argument for append method is treated as an element to be added to the list inplace'"
      ]
     },
     "execution_count": 52,
     "metadata": {},
     "output_type": "execute_result"
    }
   ],
   "source": [
    "'''Any argument for append method is treated as an element to be added to the list inplace'''"
   ]
  },
  {
   "cell_type": "code",
   "execution_count": 53,
   "metadata": {},
   "outputs": [
    {
     "name": "stdout",
     "output_type": "stream",
     "text": [
      "2151596694664\n",
      "['cat', 'dog', 'rabbit', ['tiger', 'fox']]\n",
      "2151596694664\n"
     ]
    }
   ],
   "source": [
    "animal = ['cat', 'dog', 'rabbit']\n",
    "print(id(animal))\n",
    "wild_animal = ['tiger', 'fox']\n",
    "animal.append(wild_animal)\n",
    "print(animal)\n",
    "print(id(animal))"
   ]
  },
  {
   "cell_type": "code",
   "execution_count": 55,
   "metadata": {},
   "outputs": [
    {
     "data": {
      "text/plain": [
       "'CONCLUSION: \"If you need to add items of a list to another list (AND NOT the list itself), extend() method \\n   is used.\" '"
      ]
     },
     "execution_count": 55,
     "metadata": {},
     "output_type": "execute_result"
    }
   ],
   "source": [
    "'''CONCLUSION: \"If you need to add items of a list to another list (AND NOT the list itself), extend() method \n",
    "   is used.\" '''"
   ]
  },
  {
   "cell_type": "code",
   "execution_count": 56,
   "metadata": {},
   "outputs": [
    {
     "data": {
      "text/plain": [
       "'THIS IS BECAUSE EXTEND METHOD ADDS ELEMENTS OF THE LIST PASSED TO THE LIST TO WHICH IT IS APPLIED AS A METHOD AND THAT \\nIS WHY EXTEND METHOD ONLY TAKES AN ITERABLE AS AN ARGUMENT'"
      ]
     },
     "execution_count": 56,
     "metadata": {},
     "output_type": "execute_result"
    }
   ],
   "source": [
    "'''THIS IS BECAUSE EXTEND METHOD ADDS ELEMENTS OF THE LIST PASSED TO THE LIST TO WHICH IT IS APPLIED AS A METHOD AND THAT \n",
    "IS WHY EXTEND METHOD ONLY TAKES AN ITERABLE AS AN ARGUMENT'''"
   ]
  },
  {
   "cell_type": "code",
   "execution_count": 57,
   "metadata": {},
   "outputs": [
    {
     "name": "stdout",
     "output_type": "stream",
     "text": [
      "2151596694664\n",
      "['cat', 'dog', 'rabbit', ['tiger', 'fox'], 'tiger', 'fox']\n"
     ]
    }
   ],
   "source": [
    "animal.extend(wild_animal)\n",
    "print(id(animal))\n",
    "print(animal)"
   ]
  },
  {
   "cell_type": "code",
   "execution_count": 3,
   "metadata": {},
   "outputs": [
    {
     "name": "stdout",
     "output_type": "stream",
     "text": [
      "False\n"
     ]
    }
   ],
   "source": [
    "a=[1,2,4,8,5]\n",
    "b=[5,4,1,2,8]   #order matters in case of lists as well\n",
    "print(a==b)"
   ]
  },
  {
   "cell_type": "code",
   "execution_count": 1,
   "metadata": {},
   "outputs": [
    {
     "name": "stdout",
     "output_type": "stream",
     "text": [
      "False\n",
      "The first list is : [1, 2, 4, 3, 5]\n",
      "The second list is : [1, 2, 4, 3, 5]\n",
      "<class 'list'>\n",
      "<class 'int'>\n",
      "[1, 2, 4, 3, 5]\n",
      "<class 'str'>\n",
      "<class 'str'>\n",
      "[1, 2, 3, 4, 5]\n",
      "[1, 2, 3, 4, 5]\n",
      "The lists are identical\n",
      "The first list is : [1, 2, 3, 4, 5]\n",
      "The second list is : [1, 2, 3, 4, 5]\n",
      "[1, 2, 4, 3, 5, 2, 4, 6]\n",
      "[2, 6, 4, 1, 5, 3, 4, 1]\n",
      "The lists are not identical\n"
     ]
    }
   ],
   "source": [
    "'''APPLYING COMPARISON OPERATORS ON LIST'''\n",
    "\n",
    "a=[1,2,3,6,2,3,8,6,11,23,7,9,11]\n",
    "b=[6,3,2,23,11,9,7,11,8,3,1,2,6]\n",
    "print(a==b)\n",
    "\n",
    "'''Equal lists mean same elements at same position'''\n",
    "\n",
    "'''Identical lists (equivalent) mean same elements (each element having the same frequancy)\n",
    "   but not necessarily at same position'''\n",
    "\n",
    "'''Two unordered list contains exact similar elements in exact similar position, i.e to check if two lists are exactly equal.'''\n",
    "\n",
    "'''Only for equivalence'''\n",
    "#Method_1\n",
    "\n",
    "test_list1 = [1, 2, 4, 3, 5] \n",
    "test_list2 = [1, 2, 4, 3, 5] \n",
    "  \n",
    "# printing lists \n",
    "print (\"The first list is : \" + str(test_list1)) \n",
    "print (\"The second list is : \" + str(test_list2)) \n",
    "\n",
    "#TYPECASTING LIST TO STRING\n",
    "print(type(test_list1))\n",
    "print(type(test_list1[0]))\n",
    "\n",
    "y=str(test_list1)\n",
    "\n",
    "print(y)\n",
    "\n",
    "print(type(y))\n",
    "\n",
    "#TYPECASTING CHECK OVER AT THIS STATEMENT\n",
    "print(type(y[0]))\n",
    "\n",
    "test_list1.sort() \n",
    "test_list2.sort() \n",
    "  \n",
    "\n",
    "print(test_list1)\n",
    "\n",
    "print(test_list2)\n",
    "\n",
    "if test_list1 == test_list2: \n",
    "    print (\"The lists are identical\") \n",
    "else : \n",
    "    print (\"The lists are not identical\") \n",
    "    \n",
    "\n",
    "#TWO LISTS CAN ALSO BE CHECKED USING collections.counter() method\n",
    "'''We will deal with collections module later on'''\n",
    "'''But this method also ignores the ordering of the elements in the list and only takes into account the frequency of elements.'''\n",
    "import collections\n",
    "list_1=[1,2,4,3,5,2,4,6]\n",
    "list_2=[2,6,4,1,5,3,4,1]\n",
    "print (\"The first list is : \" + str(test_list1)) \n",
    "print (\"The second list is : \" + str(test_list2)) \n",
    "print(list_1)\n",
    "print(list_2)\n",
    "# using collections.Counter() to check if  \n",
    "# lists are equal \n",
    "if collections.Counter(list_1) == collections.Counter(list_2): \n",
    "    print (\"The lists are identical\") \n",
    "else : \n",
    "    print (\"The lists are not identical\")\n",
    "#Observation:\n",
    "#When we typecast lists having repeated elements to string , these elements are only taken once along with --->\n",
    "#They are printed as lists only, however their datatype is string and their elements are individually of type <class 'str'>\n",
    "#Refer to notes for this"
   ]
  },
  {
   "cell_type": "code",
   "execution_count": 5,
   "metadata": {},
   "outputs": [
    {
     "name": "stdout",
     "output_type": "stream",
     "text": [
      "[10, 15, 20, 25, 30, 35, 40, 35, 35, 35, 35, 35, 35]\n",
      "[25, 40, 35, 35]\n",
      "[10, 20, 30, 15]\n"
     ]
    }
   ],
   "source": [
    "#This approach is not appropriate to take difference of lists\n",
    "def Diff(li1, li2): \n",
    "    return (list(set(li1) - set(li2))) \n",
    "  \n",
    "# Driver Code \n",
    "li1 = [10, 15, 20, 25, 30, 35, 40,35,35,35,35,35,35] \n",
    "li2 = [25, 40, 35, 35] \n",
    "print(li1)\n",
    "print(li2)\n",
    "print(Diff(li1, li2)) "
   ]
  },
  {
   "cell_type": "code",
   "execution_count": 6,
   "metadata": {},
   "outputs": [
    {
     "name": "stdout",
     "output_type": "stream",
     "text": [
      "[10, 15, 20, 25, 30, 35, 40, 35, 35, 35, 35, 35, 35]\n",
      "[25, 40, 35, 35]\n",
      "[10, 15, 20, 30]\n"
     ]
    }
   ],
   "source": [
    "#Without using set:\n",
    "#This is not effective as well\n",
    "def Diff(li1, li2): \n",
    "    li_dif = [i for i in li1 + li2 if i not in li1 or i not in li2] \n",
    "    return li_dif \n",
    "  \n",
    "# Driver Code \n",
    "li1 = [10, 15, 20, 25, 30, 35, 40,35,35,35,35,35,35] \n",
    "li2 =  [25, 40, 35, 35]\n",
    "li3 = Diff(li1, li2) \n",
    "print(li1)\n",
    "print(li2)\n",
    "print(li3) "
   ]
  },
  {
   "cell_type": "code",
   "execution_count": 7,
   "metadata": {},
   "outputs": [
    {
     "name": "stdout",
     "output_type": "stream",
     "text": [
      "[10, 15, 20, 25, 30, 35, 40, 25, 40, 35]\n"
     ]
    }
   ],
   "source": [
    "li1 = [10, 15, 20, 25, 30, 35, 40] \n",
    "li2 = [25, 40, 35] \n",
    "print(li1+li2)"
   ]
  },
  {
   "cell_type": "code",
   "execution_count": 8,
   "metadata": {},
   "outputs": [
    {
     "ename": "TypeError",
     "evalue": "unsupported operand type(s) for -: 'list' and 'list'",
     "output_type": "error",
     "traceback": [
      "\u001b[1;31m---------------------------------------------------------------------------\u001b[0m",
      "\u001b[1;31mTypeError\u001b[0m                                 Traceback (most recent call last)",
      "\u001b[1;32m<ipython-input-8-8ceff3e8b358>\u001b[0m in \u001b[0;36m<module>\u001b[1;34m\u001b[0m\n\u001b[1;32m----> 1\u001b[1;33m \u001b[0mprint\u001b[0m\u001b[1;33m(\u001b[0m\u001b[0mli1\u001b[0m\u001b[1;33m-\u001b[0m\u001b[0mli2\u001b[0m\u001b[1;33m)\u001b[0m\u001b[1;33m\u001b[0m\u001b[1;33m\u001b[0m\u001b[0m\n\u001b[0m",
      "\u001b[1;31mTypeError\u001b[0m: unsupported operand type(s) for -: 'list' and 'list'"
     ]
    }
   ],
   "source": [
    "print(li1-li2)"
   ]
  },
  {
   "cell_type": "code",
   "execution_count": null,
   "metadata": {},
   "outputs": [],
   "source": []
  }
 ],
 "metadata": {
  "kernelspec": {
   "display_name": "Python 3",
   "language": "python",
   "name": "python3"
  },
  "language_info": {
   "codemirror_mode": {
    "name": "ipython",
    "version": 3
   },
   "file_extension": ".py",
   "mimetype": "text/x-python",
   "name": "python",
   "nbconvert_exporter": "python",
   "pygments_lexer": "ipython3",
   "version": "3.7.3"
  }
 },
 "nbformat": 4,
 "nbformat_minor": 2
}
