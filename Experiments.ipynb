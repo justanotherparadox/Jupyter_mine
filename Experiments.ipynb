{
 "cells": [
  {
   "cell_type": "code",
   "execution_count": 1,
   "metadata": {},
   "outputs": [
    {
     "name": "stdout",
     "output_type": "stream",
     "text": [
      "Requirement already satisfied: sphinx in c:\\users\\aashish\\anaconda3\\lib\\site-packages (1.8.5)\n",
      "Requirement already satisfied: six>=1.5 in c:\\users\\aashish\\anaconda3\\lib\\site-packages (from sphinx) (1.12.0)\n",
      "Requirement already satisfied: Jinja2>=2.3 in c:\\users\\aashish\\anaconda3\\lib\\site-packages (from sphinx) (2.10)\n",
      "Requirement already satisfied: Pygments>=2.0 in c:\\users\\aashish\\anaconda3\\lib\\site-packages (from sphinx) (2.3.1)\n",
      "Requirement already satisfied: docutils>=0.11 in c:\\users\\aashish\\anaconda3\\lib\\site-packages (from sphinx) (0.14)\n",
      "Requirement already satisfied: snowballstemmer>=1.1 in c:\\users\\aashish\\anaconda3\\lib\\site-packages (from sphinx) (1.2.1)\n",
      "Requirement already satisfied: babel!=2.0,>=1.3 in c:\\users\\aashish\\anaconda3\\lib\\site-packages (from sphinx) (2.6.0)\n",
      "Requirement already satisfied: alabaster<0.8,>=0.7 in c:\\users\\aashish\\anaconda3\\lib\\site-packages (from sphinx) (0.7.12)\n",
      "Requirement already satisfied: imagesize in c:\\users\\aashish\\anaconda3\\lib\\site-packages (from sphinx) (1.1.0)\n",
      "Requirement already satisfied: requests>=2.0.0 in c:\\users\\aashish\\anaconda3\\lib\\site-packages (from sphinx) (2.21.0)\n",
      "Requirement already satisfied: setuptools in c:\\users\\aashish\\anaconda3\\lib\\site-packages (from sphinx) (40.8.0)\n",
      "Requirement already satisfied: packaging in c:\\users\\aashish\\anaconda3\\lib\\site-packages (from sphinx) (19.0)\n",
      "Requirement already satisfied: sphinxcontrib-websupport in c:\\users\\aashish\\anaconda3\\lib\\site-packages (from sphinx) (1.1.0)\n",
      "Requirement already satisfied: colorama>=0.3.5 in c:\\users\\aashish\\anaconda3\\lib\\site-packages (from sphinx) (0.4.1)\n",
      "Requirement already satisfied: MarkupSafe>=0.23 in c:\\users\\aashish\\anaconda3\\lib\\site-packages (from Jinja2>=2.3->sphinx) (1.1.1)\n",
      "Requirement already satisfied: pytz>=0a in c:\\users\\aashish\\anaconda3\\lib\\site-packages (from babel!=2.0,>=1.3->sphinx) (2018.9)\n",
      "Requirement already satisfied: urllib3<1.25,>=1.21.1 in c:\\users\\aashish\\anaconda3\\lib\\site-packages (from requests>=2.0.0->sphinx) (1.24.1)\n",
      "Requirement already satisfied: certifi>=2017.4.17 in c:\\users\\aashish\\anaconda3\\lib\\site-packages (from requests>=2.0.0->sphinx) (2019.3.9)\n",
      "Requirement already satisfied: idna<2.9,>=2.5 in c:\\users\\aashish\\anaconda3\\lib\\site-packages (from requests>=2.0.0->sphinx) (2.8)\n",
      "Requirement already satisfied: chardet<3.1.0,>=3.0.2 in c:\\users\\aashish\\anaconda3\\lib\\site-packages (from requests>=2.0.0->sphinx) (3.0.4)\n",
      "Requirement already satisfied: pyparsing>=2.0.2 in c:\\users\\aashish\\anaconda3\\lib\\site-packages (from packaging->sphinx) (2.3.1)\n",
      "Note: you may need to restart the kernel to use updated packages.\n"
     ]
    }
   ],
   "source": [
    "pip install sphinx\n"
   ]
  },
  {
   "cell_type": "code",
   "execution_count": null,
   "metadata": {},
   "outputs": [],
   "source": []
  },
  {
   "cell_type": "code",
   "execution_count": null,
   "metadata": {},
   "outputs": [],
   "source": []
  }
 ],
 "metadata": {
  "kernelspec": {
   "display_name": "Python 3",
   "language": "python",
   "name": "python3"
  },
  "language_info": {
   "codemirror_mode": {
    "name": "ipython",
    "version": 3
   },
   "file_extension": ".py",
   "mimetype": "text/x-python",
   "name": "python",
   "nbconvert_exporter": "python",
   "pygments_lexer": "ipython3",
   "version": "3.7.3"
  }
 },
 "nbformat": 4,
 "nbformat_minor": 2
}
